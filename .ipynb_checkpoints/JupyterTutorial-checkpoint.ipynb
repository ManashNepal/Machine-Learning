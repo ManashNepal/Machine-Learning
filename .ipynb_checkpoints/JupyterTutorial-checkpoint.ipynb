{
 "cells": [
  {
   "cell_type": "markdown",
   "id": "eadbf14b-01a4-4fa1-8ab1-81482610edb2",
   "metadata": {
    "panel-layout": {
     "height": 93.5625,
     "visible": true,
     "width": 100
    }
   },
   "source": [
    "# First Program\n",
    "This is my first program for practicing Jupyter Notebook"
   ]
  },
  {
   "cell_type": "code",
   "execution_count": 4,
   "id": "ba7584f7-dc27-41ad-bc45-69e1371164a7",
   "metadata": {
    "panel-layout": {
     "height": 0,
     "visible": true,
     "width": 100
    }
   },
   "outputs": [
    {
     "name": "stdout",
     "output_type": "stream",
     "text": [
      "Hello!\n",
      "Second Line!!\n"
     ]
    }
   ],
   "source": [
    "print(\"Hello!\")\n",
    "print(\"Second Line!!\")"
   ]
  },
  {
   "cell_type": "code",
   "execution_count": 6,
   "id": "feb912e4-343f-4eaf-937d-a8daaa40df40",
   "metadata": {},
   "outputs": [],
   "source": [
    "name = [\"Manash Nepal\", \"Dikesh Karki\"]"
   ]
  },
  {
   "cell_type": "code",
   "execution_count": 8,
   "id": "6427e1a1-3918-468c-a78f-20c08a0e758a",
   "metadata": {
    "panel-layout": {
     "height": 0,
     "visible": true,
     "width": 100
    }
   },
   "outputs": [
    {
     "name": "stdout",
     "output_type": "stream",
     "text": [
      "['Manash Nepal', 'Dikesh Karki']\n"
     ]
    }
   ],
   "source": [
    "print(name)"
   ]
  },
  {
   "cell_type": "markdown",
   "id": "4f7d96cf-8fcd-457c-9f40-4d5fc51df63e",
   "metadata": {
    "panel-layout": {
     "height": 110.70000457763672,
     "visible": true,
     "width": 100
    }
   },
   "source": [
    "# Some More Documentation\n",
    "- First Statement\n",
    "- Second Statement"
   ]
  },
  {
   "cell_type": "code",
   "execution_count": 15,
   "id": "01b9e46f-f46a-495d-94ba-e4492a3525df",
   "metadata": {},
   "outputs": [],
   "source": [
    "import pandas as pd"
   ]
  },
  {
   "cell_type": "code",
   "execution_count": 17,
   "id": "a2133114-cacb-4843-bd6e-f5f16dd72dfb",
   "metadata": {},
   "outputs": [
    {
     "data": {
      "text/plain": [
       "2"
      ]
     },
     "execution_count": 17,
     "metadata": {},
     "output_type": "execute_result"
    }
   ],
   "source": [
    "1+1"
   ]
  },
  {
   "cell_type": "code",
   "execution_count": null,
   "id": "0d199ce9-8eed-4427-8abf-4deedd1c1a5b",
   "metadata": {},
   "outputs": [],
   "source": []
  }
 ],
 "metadata": {
  "kernelspec": {
   "display_name": "Python [conda env:base] *",
   "language": "python",
   "name": "conda-base-py"
  },
  "language_info": {
   "codemirror_mode": {
    "name": "ipython",
    "version": 3
   },
   "file_extension": ".py",
   "mimetype": "text/x-python",
   "name": "python",
   "nbconvert_exporter": "python",
   "pygments_lexer": "ipython3",
   "version": "3.12.7"
  },
  "panel-cell-order": [
   "eadbf14b-01a4-4fa1-8ab1-81482610edb2",
   "ba7584f7-dc27-41ad-bc45-69e1371164a7",
   "6427e1a1-3918-468c-a78f-20c08a0e758a",
   "4f7d96cf-8fcd-457c-9f40-4d5fc51df63e"
  ]
 },
 "nbformat": 4,
 "nbformat_minor": 5
}
