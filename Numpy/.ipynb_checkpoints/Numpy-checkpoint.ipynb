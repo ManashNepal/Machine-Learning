{
 "cells": [
  {
   "cell_type": "markdown",
   "id": "8f9330ac-5bce-463e-9309-d4dd9936df90",
   "metadata": {},
   "source": [
    "# NumPy Documentation (My Version)"
   ]
  },
  {
   "cell_type": "markdown",
   "id": "ae75c1bc-83d7-42ab-bd50-02b55bcfda6a",
   "metadata": {},
   "source": [
    "- Numpy is used in scientific computing. (use of computers to solve scientific and engineering problems that involve complex mathematics)\n",
    "- It makes math and data processing faster and easier, especially when working with large amounts of data."
   ]
  },
  {
   "cell_type": "code",
   "execution_count": 595,
   "id": "3c2e122c-7d01-46d0-8d23-b8ae7b3e85cd",
   "metadata": {},
   "outputs": [],
   "source": [
    "import numpy as np"
   ]
  },
  {
   "cell_type": "code",
   "execution_count": 596,
   "id": "58fc3cd4-43c5-4ccb-9916-595f3052654b",
   "metadata": {},
   "outputs": [
    {
     "data": {
      "text/plain": [
       "[1, 2, 3, 4]"
      ]
     },
     "execution_count": 596,
     "metadata": {},
     "output_type": "execute_result"
    }
   ],
   "source": [
    "list1 = [1,2,3,4]\n",
    "list1"
   ]
  },
  {
   "cell_type": "code",
   "execution_count": 597,
   "id": "1cee4c05-4bec-4ad6-a333-64c71862fb5a",
   "metadata": {},
   "outputs": [
    {
     "data": {
      "text/plain": [
       "1"
      ]
     },
     "execution_count": 597,
     "metadata": {},
     "output_type": "execute_result"
    }
   ],
   "source": [
    "list1[0]"
   ]
  },
  {
   "cell_type": "code",
   "execution_count": 598,
   "id": "6f5e2a00-f672-416c-9500-5b192be1406f",
   "metadata": {},
   "outputs": [
    {
     "data": {
      "text/plain": [
       "['Manash Nepal', 22, [1, 2, 3, 4], True]"
      ]
     },
     "execution_count": 598,
     "metadata": {},
     "output_type": "execute_result"
    }
   ],
   "source": [
    "list2 = [\"Manash Nepal\" , 22, list1, True]\n",
    "list2"
   ]
  },
  {
   "cell_type": "code",
   "execution_count": 599,
   "id": "c97432ae-701d-40a1-99e0-ff0879fd3a41",
   "metadata": {},
   "outputs": [
    {
     "name": "stdout",
     "output_type": "stream",
     "text": [
      "[0 1 2 3 4 5 6 7 8 9]\n"
     ]
    }
   ],
   "source": [
    "np1 = np.array([0,1,2,3,4,5,6,7,8,9])\n",
    "print(np1)"
   ]
  },
  {
   "cell_type": "code",
   "execution_count": 600,
   "id": "5bcc48b5-94ac-425a-97b9-203f82fd8f1c",
   "metadata": {},
   "outputs": [
    {
     "data": {
      "text/plain": [
       "numpy.ndarray"
      ]
     },
     "execution_count": 600,
     "metadata": {},
     "output_type": "execute_result"
    }
   ],
   "source": [
    "type(np1)"
   ]
  },
  {
   "cell_type": "code",
   "execution_count": 601,
   "id": "1db8337f-7105-4088-b523-10143e8cc7d0",
   "metadata": {},
   "outputs": [
    {
     "data": {
      "text/plain": [
       "numpy.int32"
      ]
     },
     "execution_count": 601,
     "metadata": {},
     "output_type": "execute_result"
    }
   ],
   "source": [
    "type(np1[0])"
   ]
  },
  {
   "cell_type": "code",
   "execution_count": 602,
   "id": "ce05761d-6c6e-4294-8e79-64ee1a03de11",
   "metadata": {},
   "outputs": [
    {
     "data": {
      "text/plain": [
       "(10,)"
      ]
     },
     "execution_count": 602,
     "metadata": {},
     "output_type": "execute_result"
    }
   ],
   "source": [
    "np.shape(np1)"
   ]
  },
  {
   "cell_type": "code",
   "execution_count": 603,
   "id": "5b8fa674-51ad-465d-a7cc-5a33afaf49c5",
   "metadata": {},
   "outputs": [
    {
     "name": "stdout",
     "output_type": "stream",
     "text": [
      "[0.  0.5 1.  1.5 2.  2.5 3.  3.5 4.  4.5 5. ]\n"
     ]
    }
   ],
   "source": [
    "# arange\n",
    "np2 = np.arange(start=0,stop=5.5,step=0.5)\n",
    "print(np2)"
   ]
  },
  {
   "cell_type": "code",
   "execution_count": 604,
   "id": "86f1bf4a-ffcb-42ab-86fb-3ad2c92d1d0a",
   "metadata": {},
   "outputs": [
    {
     "data": {
      "text/plain": [
       "array([0, 0])"
      ]
     },
     "execution_count": 604,
     "metadata": {},
     "output_type": "execute_result"
    }
   ],
   "source": [
    "# zeros\n",
    "np3 = np.zeros(2, dtype=int)\n",
    "np3"
   ]
  },
  {
   "cell_type": "code",
   "execution_count": 605,
   "id": "62eb1ae3-8c55-47f7-9199-eb5ceb2f0c6c",
   "metadata": {},
   "outputs": [
    {
     "name": "stdout",
     "output_type": "stream",
     "text": [
      "[[0 0 0]\n",
      " [0 0 0]]\n"
     ]
    }
   ],
   "source": [
    "np4 = np.zeros((2,3), dtype=int)\n",
    "print(np4)"
   ]
  },
  {
   "cell_type": "code",
   "execution_count": 606,
   "id": "83ce6188-5334-4cf9-8436-0eeecdb6f153",
   "metadata": {},
   "outputs": [
    {
     "data": {
      "text/plain": [
       "array([[2, 3],\n",
       "       [3, 4]])"
      ]
     },
     "execution_count": 606,
     "metadata": {},
     "output_type": "execute_result"
    }
   ],
   "source": [
    "np5 = np.array([[2,3],[3,4]])\n",
    "np5"
   ]
  },
  {
   "cell_type": "code",
   "execution_count": 607,
   "id": "ec2f905f-f8e6-4d6e-8564-9c867ee8a8b4",
   "metadata": {},
   "outputs": [
    {
     "data": {
      "text/plain": [
       "array([[10, 10, 10],\n",
       "       [10, 10, 10]])"
      ]
     },
     "execution_count": 607,
     "metadata": {},
     "output_type": "execute_result"
    }
   ],
   "source": [
    "np6 = np.full((2,3),fill_value=10)\n",
    "np6"
   ]
  },
  {
   "cell_type": "code",
   "execution_count": 608,
   "id": "acb9b118-59c0-4f73-8c11-203fcfe6d566",
   "metadata": {},
   "outputs": [
    {
     "data": {
      "text/plain": [
       "array([10, 10, 10, 10, 10, 10, 10, 10, 10, 10])"
      ]
     },
     "execution_count": 608,
     "metadata": {},
     "output_type": "execute_result"
    }
   ],
   "source": [
    "np7 = np.full(10,10)\n",
    "np7"
   ]
  },
  {
   "cell_type": "code",
   "execution_count": 609,
   "id": "c866df27-6d7a-4fde-b24e-7f193786fc1d",
   "metadata": {},
   "outputs": [
    {
     "data": {
      "text/plain": [
       "[1, 2, 3, 4, 5]"
      ]
     },
     "execution_count": 609,
     "metadata": {},
     "output_type": "execute_result"
    }
   ],
   "source": [
    "my_list = [1,2,3,4,5]\n",
    "my_list"
   ]
  },
  {
   "cell_type": "code",
   "execution_count": 610,
   "id": "d13d8b18-fe2a-4383-adb9-6b9f58b552d7",
   "metadata": {},
   "outputs": [
    {
     "data": {
      "text/plain": [
       "array([1, 2, 3, 4, 5])"
      ]
     },
     "execution_count": 610,
     "metadata": {},
     "output_type": "execute_result"
    }
   ],
   "source": [
    "np8 = np.array(my_list)\n",
    "np8"
   ]
  },
  {
   "cell_type": "code",
   "execution_count": 611,
   "id": "66c73e96-8506-42a2-a9c5-9b7932b47eff",
   "metadata": {},
   "outputs": [
    {
     "data": {
      "text/plain": [
       "numpy.ndarray"
      ]
     },
     "execution_count": 611,
     "metadata": {},
     "output_type": "execute_result"
    }
   ],
   "source": [
    "type(np8)"
   ]
  },
  {
   "cell_type": "markdown",
   "id": "7db6b757-5751-478f-8fc7-038d8fe60d4e",
   "metadata": {},
   "source": [
    "# Slicing numpy arrays"
   ]
  },
  {
   "cell_type": "code",
   "execution_count": 613,
   "id": "bff21e88-0f22-40b1-95e4-214acd0a280a",
   "metadata": {},
   "outputs": [
    {
     "data": {
      "text/plain": [
       "array([ 0,  1,  2,  3,  4,  5,  6,  7,  8,  9, 10])"
      ]
     },
     "execution_count": 613,
     "metadata": {},
     "output_type": "execute_result"
    }
   ],
   "source": [
    "np1 = np.array([0,1,2,3,4,5,6,7,8,9,10])\n",
    "np1"
   ]
  },
  {
   "cell_type": "code",
   "execution_count": 614,
   "id": "0098e391-4e9b-4cff-b974-a594aae96116",
   "metadata": {},
   "outputs": [
    {
     "data": {
      "text/plain": [
       "array([1, 2, 3, 4])"
      ]
     },
     "execution_count": 614,
     "metadata": {},
     "output_type": "execute_result"
    }
   ],
   "source": [
    "# Basic slicing\n",
    "np1[1:5]"
   ]
  },
  {
   "cell_type": "code",
   "execution_count": 615,
   "id": "20642738-53cb-4393-ad75-de2cdeaca65e",
   "metadata": {},
   "outputs": [
    {
     "data": {
      "text/plain": [
       "[2, 3, 4, 5]"
      ]
     },
     "execution_count": 615,
     "metadata": {},
     "output_type": "execute_result"
    }
   ],
   "source": [
    "my_list = [1,2,3,4,5]\n",
    "my_list[1:5]"
   ]
  },
  {
   "cell_type": "code",
   "execution_count": 616,
   "id": "c014d446-5ed2-4af0-836c-d052ddf1d485",
   "metadata": {},
   "outputs": [
    {
     "data": {
      "text/plain": [
       "array([ 2,  3,  4,  5,  6,  7,  8,  9, 10])"
      ]
     },
     "execution_count": 616,
     "metadata": {},
     "output_type": "execute_result"
    }
   ],
   "source": [
    "# Slicing from some index till end\n",
    "np1[2:]"
   ]
  },
  {
   "cell_type": "code",
   "execution_count": 617,
   "id": "c50b7a41-d7e0-4b6e-8740-4859e83251cb",
   "metadata": {},
   "outputs": [
    {
     "data": {
      "text/plain": [
       "array([10,  9,  8,  7,  6,  5])"
      ]
     },
     "execution_count": 617,
     "metadata": {},
     "output_type": "execute_result"
    }
   ],
   "source": [
    "np1[-1:-7:-1]"
   ]
  },
  {
   "cell_type": "code",
   "execution_count": 618,
   "id": "ac5aab5a-0d40-4408-8adb-b4976919cbe6",
   "metadata": {},
   "outputs": [
    {
     "data": {
      "text/plain": [
       "array([1, 3, 5])"
      ]
     },
     "execution_count": 618,
     "metadata": {},
     "output_type": "execute_result"
    }
   ],
   "source": [
    "np1[1:6:2]"
   ]
  },
  {
   "cell_type": "code",
   "execution_count": 619,
   "id": "d6c4cceb-f953-496d-b76b-0a8573dfb8fd",
   "metadata": {},
   "outputs": [
    {
     "data": {
      "text/plain": [
       "array([ 0,  2,  4,  6,  8, 10])"
      ]
     },
     "execution_count": 619,
     "metadata": {},
     "output_type": "execute_result"
    }
   ],
   "source": [
    "np1[::2]"
   ]
  },
  {
   "cell_type": "code",
   "execution_count": 620,
   "id": "9234d0ba-6fd7-4e64-b42c-11f571f6b489",
   "metadata": {},
   "outputs": [
    {
     "data": {
      "text/plain": [
       "array([1, 3, 5, 7, 9])"
      ]
     },
     "execution_count": 620,
     "metadata": {},
     "output_type": "execute_result"
    }
   ],
   "source": [
    "np1[1::2]"
   ]
  },
  {
   "cell_type": "code",
   "execution_count": 621,
   "id": "86069549-5977-49a3-b0af-ce09d849bbc5",
   "metadata": {},
   "outputs": [
    {
     "data": {
      "text/plain": [
       "8"
      ]
     },
     "execution_count": 621,
     "metadata": {},
     "output_type": "execute_result"
    }
   ],
   "source": [
    "# Slicing 2D array\n",
    "np2 = np.array([\n",
    "    [1,2,3,4,5],\n",
    "    [6,7,8,9,10]\n",
    "])\n",
    "np2[1][2]"
   ]
  },
  {
   "cell_type": "code",
   "execution_count": 622,
   "id": "59ececd7-fa75-4840-9d98-e661cf02cd81",
   "metadata": {},
   "outputs": [
    {
     "data": {
      "text/plain": [
       "array([[2, 3],\n",
       "       [7, 8]])"
      ]
     },
     "execution_count": 622,
     "metadata": {},
     "output_type": "execute_result"
    }
   ],
   "source": [
    "np2[0:2,1:3]"
   ]
  },
  {
   "cell_type": "markdown",
   "id": "32552fea-8104-49fa-8296-9f1f11d1ee26",
   "metadata": {},
   "source": [
    "# Universal Function"
   ]
  },
  {
   "cell_type": "code",
   "execution_count": 624,
   "id": "d029cd48-caec-42fc-a9fb-db8bfe3dac70",
   "metadata": {},
   "outputs": [
    {
     "data": {
      "text/plain": [
       "array([0, 1, 2, 3, 4, 5, 6, 7, 8, 9])"
      ]
     },
     "execution_count": 624,
     "metadata": {},
     "output_type": "execute_result"
    }
   ],
   "source": [
    "np1 = np.array([0,1,2,3,4,5,6,7,8,9])\n",
    "np1"
   ]
  },
  {
   "cell_type": "code",
   "execution_count": 625,
   "id": "ca31c960-a0bb-4205-a1a6-009abd30c840",
   "metadata": {},
   "outputs": [
    {
     "name": "stdout",
     "output_type": "stream",
     "text": [
      "0.0\n",
      "1.0\n",
      "1.4142135623730951\n",
      "1.7320508075688772\n",
      "2.0\n",
      "2.23606797749979\n",
      "2.449489742783178\n",
      "2.6457513110645907\n",
      "2.8284271247461903\n",
      "3.0\n"
     ]
    }
   ],
   "source": [
    "np2 = np.sqrt(np1)\n",
    "for num in np2:\n",
    "    print(num)"
   ]
  },
  {
   "cell_type": "code",
   "execution_count": 626,
   "id": "d366542c-7b26-471c-9f71-d018c30f6c2b",
   "metadata": {},
   "outputs": [
    {
     "data": {
      "text/plain": [
       "array([-3, -2, -1,  0,  1,  2,  3])"
      ]
     },
     "execution_count": 626,
     "metadata": {},
     "output_type": "execute_result"
    }
   ],
   "source": [
    "np2 = np.array([-3,-2,-1,0,1,2,3])\n",
    "np2"
   ]
  },
  {
   "cell_type": "code",
   "execution_count": 627,
   "id": "21190c0c-ffbc-4eea-b4ee-d2fb06cf3560",
   "metadata": {},
   "outputs": [
    {
     "data": {
      "text/plain": [
       "array([3, 2, 1, 0, 1, 2, 3])"
      ]
     },
     "execution_count": 627,
     "metadata": {},
     "output_type": "execute_result"
    }
   ],
   "source": [
    "np.absolute(np2)"
   ]
  },
  {
   "cell_type": "code",
   "execution_count": 628,
   "id": "6cbad717-bdc3-4334-9a47-67c780f57c1a",
   "metadata": {},
   "outputs": [
    {
     "data": {
      "text/plain": [
       "array([1.00000000e+00, 2.71828183e+00, 7.38905610e+00, 2.00855369e+01,\n",
       "       5.45981500e+01, 1.48413159e+02, 4.03428793e+02, 1.09663316e+03,\n",
       "       2.98095799e+03, 8.10308393e+03])"
      ]
     },
     "execution_count": 628,
     "metadata": {},
     "output_type": "execute_result"
    }
   ],
   "source": [
    "np.exp(np1)"
   ]
  },
  {
   "cell_type": "code",
   "execution_count": 629,
   "id": "a3871f5f-7c92-48ac-8867-44021227bec8",
   "metadata": {},
   "outputs": [
    {
     "data": {
      "text/plain": [
       "0"
      ]
     },
     "execution_count": 629,
     "metadata": {},
     "output_type": "execute_result"
    }
   ],
   "source": [
    "np.min(np1)"
   ]
  },
  {
   "cell_type": "code",
   "execution_count": 630,
   "id": "e91fcf1e-a818-4862-8d4a-3176e4fdafe1",
   "metadata": {},
   "outputs": [
    {
     "data": {
      "text/plain": [
       "9"
      ]
     },
     "execution_count": 630,
     "metadata": {},
     "output_type": "execute_result"
    }
   ],
   "source": [
    "np.max(np1)"
   ]
  },
  {
   "cell_type": "code",
   "execution_count": 631,
   "id": "9fca9801-22b4-4506-ad43-d59fb157c7d8",
   "metadata": {},
   "outputs": [
    {
     "data": {
      "text/plain": [
       "array([-1, -1, -1,  0,  1,  1,  1])"
      ]
     },
     "execution_count": 631,
     "metadata": {},
     "output_type": "execute_result"
    }
   ],
   "source": [
    "np.sign(np2)"
   ]
  },
  {
   "cell_type": "code",
   "execution_count": 632,
   "id": "8c885982-3b3e-493c-ad2b-08e0fbd1bf3c",
   "metadata": {},
   "outputs": [
    {
     "data": {
      "text/plain": [
       "array([ 0.        ,  0.84147098,  0.90929743,  0.14112001, -0.7568025 ,\n",
       "       -0.95892427, -0.2794155 ,  0.6569866 ,  0.98935825,  0.41211849])"
      ]
     },
     "execution_count": 632,
     "metadata": {},
     "output_type": "execute_result"
    }
   ],
   "source": [
    "np.sin(np1)"
   ]
  },
  {
   "cell_type": "code",
   "execution_count": 633,
   "id": "01cad75e-58d1-46b6-b912-908538365a3f",
   "metadata": {},
   "outputs": [
    {
     "data": {
      "text/plain": [
       "array([ 1.        ,  0.54030231, -0.41614684, -0.9899925 , -0.65364362,\n",
       "        0.28366219,  0.96017029,  0.75390225, -0.14550003, -0.91113026])"
      ]
     },
     "execution_count": 633,
     "metadata": {},
     "output_type": "execute_result"
    }
   ],
   "source": [
    "np.cos(np1)"
   ]
  },
  {
   "cell_type": "code",
   "execution_count": 634,
   "id": "b0a5228f-81a4-4e92-8fe8-aa5518b653e8",
   "metadata": {},
   "outputs": [
    {
     "name": "stderr",
     "output_type": "stream",
     "text": [
      "C:\\Users\\manas\\AppData\\Local\\Temp\\ipykernel_5512\\3977740415.py:1: RuntimeWarning: divide by zero encountered in log\n",
      "  np.log(np1)\n"
     ]
    },
    {
     "data": {
      "text/plain": [
       "array([      -inf, 0.        , 0.69314718, 1.09861229, 1.38629436,\n",
       "       1.60943791, 1.79175947, 1.94591015, 2.07944154, 2.19722458])"
      ]
     },
     "execution_count": 634,
     "metadata": {},
     "output_type": "execute_result"
    }
   ],
   "source": [
    "np.log(np1)"
   ]
  },
  {
   "cell_type": "code",
   "execution_count": 635,
   "id": "ec785ffc-1d95-4a7f-82b8-b33df142e2f4",
   "metadata": {},
   "outputs": [
    {
     "data": {
      "text/plain": [
       "array([5, 7, 9])"
      ]
     },
     "execution_count": 635,
     "metadata": {},
     "output_type": "execute_result"
    }
   ],
   "source": [
    "np3 = np.array([1,2,3])\n",
    "np4 = np.array([4,5,6])\n",
    "np.add(np3,np4)"
   ]
  },
  {
   "cell_type": "code",
   "execution_count": 636,
   "id": "7f7f106e-2ee5-45cc-ae44-e4a88196e64b",
   "metadata": {},
   "outputs": [
    {
     "data": {
      "text/plain": [
       "array([1, 2, 3])"
      ]
     },
     "execution_count": 636,
     "metadata": {},
     "output_type": "execute_result"
    }
   ],
   "source": [
    "np.fmod(np3,np4)"
   ]
  },
  {
   "cell_type": "code",
   "execution_count": 637,
   "id": "196dbea1-325b-4b1e-83e4-8ec2c88c1090",
   "metadata": {},
   "outputs": [
    {
     "data": {
      "text/plain": [
       "array([ True,  True,  True])"
      ]
     },
     "execution_count": 637,
     "metadata": {},
     "output_type": "execute_result"
    }
   ],
   "source": [
    "np.greater(np4,np3)"
   ]
  },
  {
   "cell_type": "markdown",
   "id": "a12295aa-81b5-49f5-992c-813e7d34d9ac",
   "metadata": {},
   "source": [
    "# Copy vs View\n",
    "- change in original array also makes change in view array which is not true for copy array"
   ]
  },
  {
   "cell_type": "code",
   "execution_count": 639,
   "id": "ea6cb7a5-32a1-48a9-aef3-7b075c9dbdf7",
   "metadata": {},
   "outputs": [
    {
     "data": {
      "text/plain": [
       "array([0, 1, 2, 3, 4, 5])"
      ]
     },
     "execution_count": 639,
     "metadata": {},
     "output_type": "execute_result"
    }
   ],
   "source": [
    "np1 = np.array([0,1,2,3,4,5])\n",
    "np1"
   ]
  },
  {
   "cell_type": "code",
   "execution_count": 640,
   "id": "3b09c91e-c7f9-45ce-91f8-5397d79a4a52",
   "metadata": {},
   "outputs": [
    {
     "data": {
      "text/plain": [
       "array([0, 1, 2, 3, 4, 5])"
      ]
     },
     "execution_count": 640,
     "metadata": {},
     "output_type": "execute_result"
    }
   ],
   "source": [
    "# View is still connected to original array\n",
    "np2 = np1.view()\n",
    "np2"
   ]
  },
  {
   "cell_type": "code",
   "execution_count": 641,
   "id": "262f44d4-db2c-4a80-a2b4-2bc49104696b",
   "metadata": {},
   "outputs": [],
   "source": [
    "np1[0] = 41"
   ]
  },
  {
   "cell_type": "code",
   "execution_count": 642,
   "id": "79c9c784-a207-4398-8ecb-b05a76963160",
   "metadata": {},
   "outputs": [
    {
     "data": {
      "text/plain": [
       "array([41,  1,  2,  3,  4,  5])"
      ]
     },
     "execution_count": 642,
     "metadata": {},
     "output_type": "execute_result"
    }
   ],
   "source": [
    "np1"
   ]
  },
  {
   "cell_type": "code",
   "execution_count": 643,
   "id": "3803fec7-699e-4779-9ac9-cc18e12b7c1b",
   "metadata": {},
   "outputs": [
    {
     "data": {
      "text/plain": [
       "array([41,  1,  2,  3,  4,  5])"
      ]
     },
     "execution_count": 643,
     "metadata": {},
     "output_type": "execute_result"
    }
   ],
   "source": [
    "np2"
   ]
  },
  {
   "cell_type": "code",
   "execution_count": 644,
   "id": "69835d99-5943-43d4-b572-d763ffb89a67",
   "metadata": {},
   "outputs": [
    {
     "data": {
      "text/plain": [
       "array([41,  1,  2, 56,  4,  5])"
      ]
     },
     "execution_count": 644,
     "metadata": {},
     "output_type": "execute_result"
    }
   ],
   "source": [
    "np2[3] = 56\n",
    "np2"
   ]
  },
  {
   "cell_type": "code",
   "execution_count": 645,
   "id": "a2598a84-e9fb-48b6-94e7-9804cfb1b6ea",
   "metadata": {},
   "outputs": [
    {
     "data": {
      "text/plain": [
       "array([41,  1,  2, 56,  4,  5])"
      ]
     },
     "execution_count": 645,
     "metadata": {},
     "output_type": "execute_result"
    }
   ],
   "source": [
    "np1"
   ]
  },
  {
   "cell_type": "code",
   "execution_count": 646,
   "id": "bd6abfb4-9c69-4d69-9c54-c9a558b4a481",
   "metadata": {},
   "outputs": [
    {
     "data": {
      "text/plain": [
       "array([0, 1, 2, 3, 4, 5])"
      ]
     },
     "execution_count": 646,
     "metadata": {},
     "output_type": "execute_result"
    }
   ],
   "source": [
    "np3 = np.array([0,1,2,3,4,5]) \n",
    "np4 = np3.copy()\n",
    "np4"
   ]
  },
  {
   "cell_type": "code",
   "execution_count": 647,
   "id": "fc4c5e84-9611-4295-8860-c976b020f7d2",
   "metadata": {},
   "outputs": [],
   "source": [
    "np3[0] = 27"
   ]
  },
  {
   "cell_type": "code",
   "execution_count": 648,
   "id": "5d440890-4644-4435-b93b-bfae719a4bbd",
   "metadata": {},
   "outputs": [
    {
     "data": {
      "text/plain": [
       "array([27,  1,  2,  3,  4,  5])"
      ]
     },
     "execution_count": 648,
     "metadata": {},
     "output_type": "execute_result"
    }
   ],
   "source": [
    "np3"
   ]
  },
  {
   "cell_type": "code",
   "execution_count": 649,
   "id": "d4f0f6fe-2421-417d-a0e2-62df06d6880e",
   "metadata": {},
   "outputs": [
    {
     "data": {
      "text/plain": [
       "array([0, 1, 2, 3, 4, 5])"
      ]
     },
     "execution_count": 649,
     "metadata": {},
     "output_type": "execute_result"
    }
   ],
   "source": [
    "np4"
   ]
  },
  {
   "cell_type": "code",
   "execution_count": 650,
   "id": "5860fe2f-1e1d-427d-96a4-2bb547253b6a",
   "metadata": {},
   "outputs": [
    {
     "data": {
      "text/plain": [
       "array([67,  1,  2,  3,  4,  5])"
      ]
     },
     "execution_count": 650,
     "metadata": {},
     "output_type": "execute_result"
    }
   ],
   "source": [
    "np4[0] = 67\n",
    "np4"
   ]
  },
  {
   "cell_type": "code",
   "execution_count": 651,
   "id": "99cac23e-65f6-4fb2-939e-93ba658e661d",
   "metadata": {},
   "outputs": [
    {
     "data": {
      "text/plain": [
       "array([27,  1,  2,  3,  4,  5])"
      ]
     },
     "execution_count": 651,
     "metadata": {},
     "output_type": "execute_result"
    }
   ],
   "source": [
    "np3"
   ]
  },
  {
   "cell_type": "code",
   "execution_count": 652,
   "id": "e96ab676-dfbb-40d1-84c8-461f210e6ad6",
   "metadata": {},
   "outputs": [
    {
     "data": {
      "text/plain": [
       "array([ 2, 81,  7])"
      ]
     },
     "execution_count": 652,
     "metadata": {},
     "output_type": "execute_result"
    }
   ],
   "source": [
    "np5 = np.array([0,1,2,3,7,8,9])\n",
    "np6 = np5[2:5]\n",
    "np5[3] = 81\n",
    "np6"
   ]
  },
  {
   "cell_type": "markdown",
   "id": "66683441-8de2-4dac-b8f2-4b64c8149726",
   "metadata": {},
   "source": [
    "# Shaping and Reshaping"
   ]
  },
  {
   "cell_type": "code",
   "execution_count": 654,
   "id": "83e8e15e-6cef-4062-bdc9-cd9f6b87f5a8",
   "metadata": {},
   "outputs": [
    {
     "data": {
      "text/plain": [
       "array([ 1,  2,  3,  4,  5,  6,  7,  8,  9, 10, 11, 12, 13, 14, 15])"
      ]
     },
     "execution_count": 654,
     "metadata": {},
     "output_type": "execute_result"
    }
   ],
   "source": [
    "np1 = np.array([1,2,3,4,5,6,7,8,9,10,11,12,13,14,15])\n",
    "np1"
   ]
  },
  {
   "cell_type": "code",
   "execution_count": 655,
   "id": "c398c85f-ec23-4428-abda-63cd77606b6b",
   "metadata": {},
   "outputs": [
    {
     "data": {
      "text/plain": [
       "(15,)"
      ]
     },
     "execution_count": 655,
     "metadata": {},
     "output_type": "execute_result"
    }
   ],
   "source": [
    "np1.shape"
   ]
  },
  {
   "cell_type": "code",
   "execution_count": 656,
   "id": "3cf022ee-40df-43cd-9008-fa5ad94e91bd",
   "metadata": {},
   "outputs": [
    {
     "data": {
      "text/plain": [
       "(15,)"
      ]
     },
     "execution_count": 656,
     "metadata": {},
     "output_type": "execute_result"
    }
   ],
   "source": [
    "np.shape(np1)"
   ]
  },
  {
   "cell_type": "code",
   "execution_count": 657,
   "id": "f605e5be-cdf2-49d8-9c83-ee43d951a4e0",
   "metadata": {},
   "outputs": [
    {
     "data": {
      "text/plain": [
       "array([[ 1,  2,  3,  4,  5,  6],\n",
       "       [ 7,  8,  9, 10, 11, 12]])"
      ]
     },
     "execution_count": 657,
     "metadata": {},
     "output_type": "execute_result"
    }
   ],
   "source": [
    "np2 = np.array([[1,2,3,4,5,6],[7,8,9,10,11,12]])\n",
    "np2"
   ]
  },
  {
   "cell_type": "code",
   "execution_count": 658,
   "id": "21f59dbe-6949-4399-88d3-ee3404e1b903",
   "metadata": {},
   "outputs": [
    {
     "data": {
      "text/plain": [
       "(2, 6)"
      ]
     },
     "execution_count": 658,
     "metadata": {},
     "output_type": "execute_result"
    }
   ],
   "source": [
    "np2.shape"
   ]
  },
  {
   "cell_type": "code",
   "execution_count": 659,
   "id": "a5c169f8-5398-4623-b2e5-fee33b00c2ae",
   "metadata": {},
   "outputs": [
    {
     "data": {
      "text/plain": [
       "array([[ 1,  2,  3,  4,  5],\n",
       "       [ 6,  7,  8,  9, 10],\n",
       "       [11, 12, 13, 14, 15]])"
      ]
     },
     "execution_count": 659,
     "metadata": {},
     "output_type": "execute_result"
    }
   ],
   "source": [
    "np3 = np1.reshape((3,5))\n",
    "np3"
   ]
  },
  {
   "cell_type": "code",
   "execution_count": 660,
   "id": "15ea0cb9-54a1-472f-9686-a2e3c14ea67b",
   "metadata": {},
   "outputs": [
    {
     "data": {
      "text/plain": [
       "(3, 5)"
      ]
     },
     "execution_count": 660,
     "metadata": {},
     "output_type": "execute_result"
    }
   ],
   "source": [
    "np3.shape"
   ]
  },
  {
   "cell_type": "code",
   "execution_count": 661,
   "id": "5299cd51-af1b-4ab8-b0e6-b897d1f7c409",
   "metadata": {},
   "outputs": [
    {
     "data": {
      "text/plain": [
       "array([[[ 1,  2,  3,  4],\n",
       "        [ 5,  6,  7,  8]],\n",
       "\n",
       "       [[ 9, 10, 11, 12],\n",
       "        [13, 14, 15, 16]]])"
      ]
     },
     "execution_count": 661,
     "metadata": {},
     "output_type": "execute_result"
    }
   ],
   "source": [
    "temp_np = np.array([1,2,3,4,5,6,7,8,9,10,11,12,13,14,15,16])\n",
    "np4 = temp_np.reshape((2,2,4))\n",
    "np4"
   ]
  },
  {
   "cell_type": "code",
   "execution_count": 662,
   "id": "d2d51a1a-75a2-4685-b7bb-00e2495f8dde",
   "metadata": {},
   "outputs": [
    {
     "data": {
      "text/plain": [
       "array([ 1,  2,  3,  4,  5,  6,  7,  8,  9, 10, 11, 12, 13, 14, 15, 16])"
      ]
     },
     "execution_count": 662,
     "metadata": {},
     "output_type": "execute_result"
    }
   ],
   "source": [
    "np5 = np4.reshape((16,))\n",
    "np5"
   ]
  },
  {
   "cell_type": "code",
   "execution_count": 663,
   "id": "56f1063a-5aa5-40c9-a892-39eb2afb24e1",
   "metadata": {},
   "outputs": [
    {
     "data": {
      "text/plain": [
       "array([ 1,  2,  3,  4,  5,  6,  7,  8,  9, 10, 11, 12, 13, 14, 15, 16])"
      ]
     },
     "execution_count": 663,
     "metadata": {},
     "output_type": "execute_result"
    }
   ],
   "source": [
    "# Another way - Flattening\n",
    "np6 = np4.reshape(-1)\n",
    "np6"
   ]
  },
  {
   "cell_type": "markdown",
   "id": "aadc17ce-3461-4dc5-aaa6-acacae6679df",
   "metadata": {},
   "source": [
    "# Iterating"
   ]
  },
  {
   "cell_type": "code",
   "execution_count": 665,
   "id": "73b3eea6-7175-4bcc-9844-2037220c2b2d",
   "metadata": {},
   "outputs": [
    {
     "data": {
      "text/plain": [
       "array([ 1,  2,  3,  4,  5,  6,  7,  8,  9, 10])"
      ]
     },
     "execution_count": 665,
     "metadata": {},
     "output_type": "execute_result"
    }
   ],
   "source": [
    "np1 = np.array([1,2,3,4,5,6,7,8,9,10])\n",
    "np1"
   ]
  },
  {
   "cell_type": "code",
   "execution_count": 666,
   "id": "ebec57cc-393a-48fc-83de-cb753a1cf2c0",
   "metadata": {},
   "outputs": [
    {
     "name": "stdout",
     "output_type": "stream",
     "text": [
      "1\n",
      "2\n",
      "3\n",
      "4\n",
      "5\n",
      "6\n",
      "7\n",
      "8\n",
      "9\n",
      "10\n"
     ]
    }
   ],
   "source": [
    "# 1-D array\n",
    "for i in np1:\n",
    "    print(i)"
   ]
  },
  {
   "cell_type": "code",
   "execution_count": 667,
   "id": "003fcb2a-3dc3-4d69-a7eb-3dd25d5cdf4e",
   "metadata": {},
   "outputs": [
    {
     "data": {
      "text/plain": [
       "array([[ 1,  2,  3,  4,  5],\n",
       "       [ 6,  7,  8,  9, 10]])"
      ]
     },
     "execution_count": 667,
     "metadata": {},
     "output_type": "execute_result"
    }
   ],
   "source": [
    "np2 = np.array([[1,2,3,4,5],[6,7,8,9,10]])\n",
    "np2"
   ]
  },
  {
   "cell_type": "code",
   "execution_count": 668,
   "id": "5839c4e1-92c2-4e28-a4a0-e23e027bb846",
   "metadata": {},
   "outputs": [
    {
     "name": "stdout",
     "output_type": "stream",
     "text": [
      "1\n",
      "2\n",
      "3\n",
      "4\n",
      "5\n",
      "6\n",
      "7\n",
      "8\n",
      "9\n",
      "10\n"
     ]
    }
   ],
   "source": [
    "# 2-D array\n",
    "for i in np2:\n",
    "    for j in i:\n",
    "        print(j)"
   ]
  },
  {
   "cell_type": "code",
   "execution_count": 669,
   "id": "23f4ad2f-d014-4639-beed-26e17c5be0ca",
   "metadata": {},
   "outputs": [
    {
     "data": {
      "text/plain": [
       "array([[[ 1,  2,  3],\n",
       "        [ 4,  5,  6]],\n",
       "\n",
       "       [[ 7,  8,  9],\n",
       "        [10, 11, 12]]])"
      ]
     },
     "execution_count": 669,
     "metadata": {},
     "output_type": "execute_result"
    }
   ],
   "source": [
    "np3 = np.array([\n",
    "    [\n",
    "        [1,2,3],\n",
    "        [4,5,6]\n",
    "    ],\n",
    "    [\n",
    "        [7,8,9],\n",
    "        [10,11,12]\n",
    "    ]\n",
    "])\n",
    "np3"
   ]
  },
  {
   "cell_type": "code",
   "execution_count": 670,
   "id": "cd88f878-cf6e-498f-baae-188f4d8dcec4",
   "metadata": {},
   "outputs": [
    {
     "name": "stdout",
     "output_type": "stream",
     "text": [
      "1\n",
      "2\n",
      "3\n",
      "4\n",
      "5\n",
      "6\n",
      "7\n",
      "8\n",
      "9\n",
      "10\n",
      "11\n",
      "12\n"
     ]
    }
   ],
   "source": [
    "# 3-D array\n",
    "for i in np3:\n",
    "    for j in i:\n",
    "        for k in j:\n",
    "            print(k)"
   ]
  },
  {
   "cell_type": "markdown",
   "id": "225263bd-9fcf-4492-8606-8bca782c11cb",
   "metadata": {},
   "source": [
    "- x[...] is a shorthand way to access all elements of a NumPy array, regardless of its shape or dimensionality"
   ]
  },
  {
   "cell_type": "code",
   "execution_count": 672,
   "id": "16ee1b7c-5760-4068-b41c-903802f49032",
   "metadata": {},
   "outputs": [
    {
     "name": "stdout",
     "output_type": "stream",
     "text": [
      "1\n",
      "2\n",
      "3\n",
      "4\n",
      "5\n",
      "6\n",
      "7\n",
      "8\n",
      "9\n",
      "10\n",
      "11\n",
      "12\n"
     ]
    }
   ],
   "source": [
    "# Easier way\n",
    "# for i in np.nditer(np3, op_flags=[\"readwrite\"]):\n",
    "#     i[...] = i+1\n",
    "for i in np.nditer(np3):\n",
    "    print(i)"
   ]
  },
  {
   "cell_type": "code",
   "execution_count": 673,
   "id": "e2f6e572-91ef-43bb-8dcd-311c067b707c",
   "metadata": {},
   "outputs": [
    {
     "name": "stdout",
     "output_type": "stream",
     "text": [
      "1\n",
      "2\n",
      "3\n",
      "4\n",
      "5\n",
      "6\n",
      "7\n",
      "8\n",
      "9\n",
      "10\n"
     ]
    }
   ],
   "source": [
    "for i in np.nditer(np1):\n",
    "    print(i)"
   ]
  },
  {
   "cell_type": "markdown",
   "id": "2717c963-5937-4141-9763-12905c3f2ada",
   "metadata": {},
   "source": [
    "# Sorting"
   ]
  },
  {
   "cell_type": "code",
   "execution_count": 675,
   "id": "b0b9cab7-ada2-499f-94f9-6df5f5dd5832",
   "metadata": {},
   "outputs": [
    {
     "data": {
      "text/plain": [
       "array([6, 9, 4, 1, 0, 2, 3])"
      ]
     },
     "execution_count": 675,
     "metadata": {},
     "output_type": "execute_result"
    }
   ],
   "source": [
    "np1 = np.array([6,9,4,1,0,2,3])\n",
    "np1"
   ]
  },
  {
   "cell_type": "code",
   "execution_count": 676,
   "id": "09d9aab1-a9a1-4d67-98d9-0b62a34004ce",
   "metadata": {},
   "outputs": [
    {
     "data": {
      "text/plain": [
       "array([0, 1, 2, 3, 4, 6, 9])"
      ]
     },
     "execution_count": 676,
     "metadata": {},
     "output_type": "execute_result"
    }
   ],
   "source": [
    "# Returns copy\n",
    "np.sort(np1)"
   ]
  },
  {
   "cell_type": "code",
   "execution_count": 677,
   "id": "bd71bafc-d597-4e4b-9585-2c070bbb7827",
   "metadata": {},
   "outputs": [
    {
     "data": {
      "text/plain": [
       "array(['Manash', 'Rinesh', 'Prasam', 'Aditya', 'Aryan'], dtype='<U6')"
      ]
     },
     "execution_count": 677,
     "metadata": {},
     "output_type": "execute_result"
    }
   ],
   "source": [
    "np2 = np.array([\"Manash\",\"Rinesh\",\"Prasam\",\"Aditya\",\"Aryan\"])\n",
    "np2"
   ]
  },
  {
   "cell_type": "code",
   "execution_count": 678,
   "id": "5c6808fa-d28b-48a5-8728-77ed928a13b7",
   "metadata": {},
   "outputs": [
    {
     "data": {
      "text/plain": [
       "array(['Aditya', 'Aryan', 'Manash', 'Prasam', 'Rinesh'], dtype='<U6')"
      ]
     },
     "execution_count": 678,
     "metadata": {},
     "output_type": "execute_result"
    }
   ],
   "source": [
    "np.sort(np2)"
   ]
  },
  {
   "cell_type": "code",
   "execution_count": 679,
   "id": "48ede24a-fa9e-41c9-b701-364a7c3464bd",
   "metadata": {},
   "outputs": [
    {
     "data": {
      "text/plain": [
       "array([ True, False, False,  True])"
      ]
     },
     "execution_count": 679,
     "metadata": {},
     "output_type": "execute_result"
    }
   ],
   "source": [
    "np3 = np.array([True,False,False,True])\n",
    "np3"
   ]
  },
  {
   "cell_type": "code",
   "execution_count": 680,
   "id": "c1b17dcd-47e9-449e-b3fc-cc1b6cd0ac39",
   "metadata": {},
   "outputs": [
    {
     "data": {
      "text/plain": [
       "array([False, False,  True,  True])"
      ]
     },
     "execution_count": 680,
     "metadata": {},
     "output_type": "execute_result"
    }
   ],
   "source": [
    "np.sort(np3) # False -> 0 && True -> 1"
   ]
  },
  {
   "cell_type": "code",
   "execution_count": 681,
   "id": "75c2f2b6-bd7d-42a1-a770-1a8733806b9b",
   "metadata": {},
   "outputs": [
    {
     "data": {
      "text/plain": [
       "array([[6, 3, 7, 1, 0],\n",
       "       [9, 3, 1, 5, 8]])"
      ]
     },
     "execution_count": 681,
     "metadata": {},
     "output_type": "execute_result"
    }
   ],
   "source": [
    "np4 = np.array([[6,3,7,1,0],[9,3,1,5,8]])\n",
    "np4"
   ]
  },
  {
   "cell_type": "code",
   "execution_count": 682,
   "id": "c5167e52-5b9e-454b-8d19-9cf7da70d0cf",
   "metadata": {},
   "outputs": [
    {
     "data": {
      "text/plain": [
       "array([[0, 1, 3, 6, 7],\n",
       "       [1, 3, 5, 8, 9]])"
      ]
     },
     "execution_count": 682,
     "metadata": {},
     "output_type": "execute_result"
    }
   ],
   "source": [
    "np.sort(np4)"
   ]
  },
  {
   "cell_type": "markdown",
   "id": "08702110-bed4-4be6-9b0b-9f9b400a1a40",
   "metadata": {},
   "source": [
    "# Searching"
   ]
  },
  {
   "cell_type": "code",
   "execution_count": 684,
   "id": "49ac487b-1c5f-4c95-bf60-c30e2466b1d5",
   "metadata": {},
   "outputs": [
    {
     "data": {
      "text/plain": [
       "array([1, 2, 3, 4, 5, 6, 7, 8, 9])"
      ]
     },
     "execution_count": 684,
     "metadata": {},
     "output_type": "execute_result"
    }
   ],
   "source": [
    "np1 = np.array([1,2,3,4,5,6,7,8,9])\n",
    "np1"
   ]
  },
  {
   "cell_type": "code",
   "execution_count": 685,
   "id": "64c428ee-21bc-4148-9e7c-acf67da6e0b8",
   "metadata": {},
   "outputs": [
    {
     "data": {
      "text/plain": [
       "(array([2, 5, 8], dtype=int64),)"
      ]
     },
     "execution_count": 685,
     "metadata": {},
     "output_type": "execute_result"
    }
   ],
   "source": [
    "# returns index\n",
    "x = np.where(np1%3 == 0)\n",
    "x"
   ]
  },
  {
   "cell_type": "code",
   "execution_count": 686,
   "id": "2408890a-8e23-4d5f-a1a9-6bf4c9f187b5",
   "metadata": {},
   "outputs": [
    {
     "data": {
      "text/plain": [
       "array([2, 5, 8], dtype=int64)"
      ]
     },
     "execution_count": 686,
     "metadata": {},
     "output_type": "execute_result"
    }
   ],
   "source": [
    "x[0]"
   ]
  },
  {
   "cell_type": "code",
   "execution_count": 687,
   "id": "c5882f70-9935-4ced-affc-6220dcc0d200",
   "metadata": {},
   "outputs": [],
   "source": [
    "arr = x[0]"
   ]
  },
  {
   "cell_type": "code",
   "execution_count": 688,
   "id": "d7ff6f52-4bdd-490b-811f-edb7bd8e671c",
   "metadata": {},
   "outputs": [
    {
     "name": "stdout",
     "output_type": "stream",
     "text": [
      "2\n",
      "5\n",
      "8\n"
     ]
    }
   ],
   "source": [
    "for i in arr:\n",
    "    print(i)"
   ]
  },
  {
   "cell_type": "code",
   "execution_count": 689,
   "id": "44de3e28-0d52-4309-9c36-41eab0918c02",
   "metadata": {},
   "outputs": [
    {
     "data": {
      "text/plain": [
       "array([3, 6, 9])"
      ]
     },
     "execution_count": 689,
     "metadata": {},
     "output_type": "execute_result"
    }
   ],
   "source": [
    "np1[x[0]]"
   ]
  },
  {
   "cell_type": "markdown",
   "id": "f3c9d403-ebcf-4972-89ed-3c876957f383",
   "metadata": {},
   "source": [
    "# Filtering numpy array with boolean index list"
   ]
  },
  {
   "cell_type": "code",
   "execution_count": 781,
   "id": "557435c9-dfdf-4fba-8baf-9351f433b7f6",
   "metadata": {},
   "outputs": [
    {
     "data": {
      "text/plain": [
       "array([ 1,  2,  3,  4,  5,  6,  7,  8,  9, 10])"
      ]
     },
     "execution_count": 781,
     "metadata": {},
     "output_type": "execute_result"
    }
   ],
   "source": [
    "np1 = np.array([1,2,3,4,5,6,7,8,9,10])\n",
    "np1"
   ]
  },
  {
   "cell_type": "code",
   "execution_count": 783,
   "id": "e794c43a-d68e-4774-b13f-7fe15ba2152d",
   "metadata": {},
   "outputs": [],
   "source": [
    "x = [True,True,False,False,False,False,False,False,False,False]"
   ]
  },
  {
   "cell_type": "code",
   "execution_count": 785,
   "id": "d4c91ffc-db14-4c59-a73b-d76fabfba60d",
   "metadata": {},
   "outputs": [
    {
     "data": {
      "text/plain": [
       "array([1, 2])"
      ]
     },
     "execution_count": 785,
     "metadata": {},
     "output_type": "execute_result"
    }
   ],
   "source": [
    "np1[x]"
   ]
  },
  {
   "cell_type": "code",
   "execution_count": 787,
   "id": "78510fae-2e77-4ca7-b2e4-6975831cb098",
   "metadata": {},
   "outputs": [],
   "source": [
    "filtered = []"
   ]
  },
  {
   "cell_type": "code",
   "execution_count": 789,
   "id": "668dceed-a963-4976-86bd-6d9b24b0585f",
   "metadata": {},
   "outputs": [],
   "source": [
    "for num in np1:\n",
    "    if num%2 == 0:\n",
    "        filtered.append(True)\n",
    "    else:\n",
    "        filtered.append(False)"
   ]
  },
  {
   "cell_type": "code",
   "execution_count": 791,
   "id": "9f115027-5099-467f-ae2d-3ae796a71d64",
   "metadata": {},
   "outputs": [
    {
     "data": {
      "text/plain": [
       "array([ 2,  4,  6,  8, 10])"
      ]
     },
     "execution_count": 791,
     "metadata": {},
     "output_type": "execute_result"
    }
   ],
   "source": [
    "np1[filtered]"
   ]
  },
  {
   "cell_type": "code",
   "execution_count": 807,
   "id": "2012e036-f808-48a8-83c7-ac9805f3d5a2",
   "metadata": {},
   "outputs": [],
   "source": [
    "# Shortcut\n",
    "new_arr = np1 > 5"
   ]
  },
  {
   "cell_type": "code",
   "execution_count": 809,
   "id": "600939ce-101c-4a19-b173-19e5e43266f0",
   "metadata": {},
   "outputs": [
    {
     "data": {
      "text/plain": [
       "array([False, False, False, False, False,  True,  True,  True,  True,\n",
       "        True])"
      ]
     },
     "execution_count": 809,
     "metadata": {},
     "output_type": "execute_result"
    }
   ],
   "source": [
    "new_arr"
   ]
  },
  {
   "cell_type": "code",
   "execution_count": 811,
   "id": "bdfcdbb4-7815-414f-9d31-0cad12f2c72c",
   "metadata": {},
   "outputs": [
    {
     "data": {
      "text/plain": [
       "array([ 6,  7,  8,  9, 10])"
      ]
     },
     "execution_count": 811,
     "metadata": {},
     "output_type": "execute_result"
    }
   ],
   "source": [
    "np1[new_arr]"
   ]
  },
  {
   "cell_type": "code",
   "execution_count": null,
   "id": "bb046771-9dd5-4b3c-83e3-d07de45f4045",
   "metadata": {},
   "outputs": [],
   "source": []
  }
 ],
 "metadata": {
  "kernelspec": {
   "display_name": "Python [conda env:base] *",
   "language": "python",
   "name": "conda-base-py"
  },
  "language_info": {
   "codemirror_mode": {
    "name": "ipython",
    "version": 3
   },
   "file_extension": ".py",
   "mimetype": "text/x-python",
   "name": "python",
   "nbconvert_exporter": "python",
   "pygments_lexer": "ipython3",
   "version": "3.12.7"
  }
 },
 "nbformat": 4,
 "nbformat_minor": 5
}
