{
 "cells": [
  {
   "cell_type": "markdown",
   "id": "8f9330ac-5bce-463e-9309-d4dd9936df90",
   "metadata": {},
   "source": [
    "# NumPy Documentation (My Version)"
   ]
  },
  {
   "cell_type": "markdown",
   "id": "ae75c1bc-83d7-42ab-bd50-02b55bcfda6a",
   "metadata": {},
   "source": [
    "- Numpy is used in scientific computing. (use of computers to solve scientific and engineering problems that involve complex mathematics)\n",
    "- It makes math and data processing faster and easier, especially when working with large amounts of data."
   ]
  },
  {
   "cell_type": "code",
   "execution_count": 5,
   "id": "3c2e122c-7d01-46d0-8d23-b8ae7b3e85cd",
   "metadata": {},
   "outputs": [],
   "source": [
    "import numpy as np"
   ]
  },
  {
   "cell_type": "code",
   "execution_count": 6,
   "id": "58fc3cd4-43c5-4ccb-9916-595f3052654b",
   "metadata": {},
   "outputs": [
    {
     "data": {
      "text/plain": [
       "[1, 2, 3, 4]"
      ]
     },
     "execution_count": 6,
     "metadata": {},
     "output_type": "execute_result"
    }
   ],
   "source": [
    "list1 = [1,2,3,4]\n",
    "list1"
   ]
  },
  {
   "cell_type": "code",
   "execution_count": 7,
   "id": "1cee4c05-4bec-4ad6-a333-64c71862fb5a",
   "metadata": {},
   "outputs": [
    {
     "data": {
      "text/plain": [
       "1"
      ]
     },
     "execution_count": 7,
     "metadata": {},
     "output_type": "execute_result"
    }
   ],
   "source": [
    "list1[0]"
   ]
  },
  {
   "cell_type": "code",
   "execution_count": 8,
   "id": "6f5e2a00-f672-416c-9500-5b192be1406f",
   "metadata": {},
   "outputs": [
    {
     "data": {
      "text/plain": [
       "['Manash Nepal', 22, [1, 2, 3, 4], True]"
      ]
     },
     "execution_count": 8,
     "metadata": {},
     "output_type": "execute_result"
    }
   ],
   "source": [
    "list2 = [\"Manash Nepal\" , 22, list1, True]\n",
    "list2"
   ]
  },
  {
   "cell_type": "code",
   "execution_count": 9,
   "id": "c97432ae-701d-40a1-99e0-ff0879fd3a41",
   "metadata": {},
   "outputs": [
    {
     "name": "stdout",
     "output_type": "stream",
     "text": [
      "[0 1 2 3 4 5 6 7 8 9]\n"
     ]
    }
   ],
   "source": [
    "np1 = np.array([0,1,2,3,4,5,6,7,8,9])\n",
    "print(np1)"
   ]
  },
  {
   "cell_type": "code",
   "execution_count": 10,
   "id": "5bcc48b5-94ac-425a-97b9-203f82fd8f1c",
   "metadata": {},
   "outputs": [
    {
     "data": {
      "text/plain": [
       "numpy.ndarray"
      ]
     },
     "execution_count": 10,
     "metadata": {},
     "output_type": "execute_result"
    }
   ],
   "source": [
    "type(np1)"
   ]
  },
  {
   "cell_type": "code",
   "execution_count": 11,
   "id": "1db8337f-7105-4088-b523-10143e8cc7d0",
   "metadata": {},
   "outputs": [
    {
     "data": {
      "text/plain": [
       "numpy.int32"
      ]
     },
     "execution_count": 11,
     "metadata": {},
     "output_type": "execute_result"
    }
   ],
   "source": [
    "type(np1[0])"
   ]
  },
  {
   "cell_type": "code",
   "execution_count": 12,
   "id": "ce05761d-6c6e-4294-8e79-64ee1a03de11",
   "metadata": {},
   "outputs": [
    {
     "data": {
      "text/plain": [
       "(10,)"
      ]
     },
     "execution_count": 12,
     "metadata": {},
     "output_type": "execute_result"
    }
   ],
   "source": [
    "np.shape(np1)"
   ]
  },
  {
   "cell_type": "code",
   "execution_count": 13,
   "id": "5b8fa674-51ad-465d-a7cc-5a33afaf49c5",
   "metadata": {},
   "outputs": [
    {
     "name": "stdout",
     "output_type": "stream",
     "text": [
      "[0.  0.5 1.  1.5 2.  2.5 3.  3.5 4.  4.5 5. ]\n"
     ]
    }
   ],
   "source": [
    "# arange\n",
    "np2 = np.arange(start=0,stop=5.5,step=0.5)\n",
    "print(np2)"
   ]
  },
  {
   "cell_type": "code",
   "execution_count": 14,
   "id": "86f1bf4a-ffcb-42ab-86fb-3ad2c92d1d0a",
   "metadata": {},
   "outputs": [
    {
     "data": {
      "text/plain": [
       "array([0, 0])"
      ]
     },
     "execution_count": 14,
     "metadata": {},
     "output_type": "execute_result"
    }
   ],
   "source": [
    "# zeros\n",
    "np3 = np.zeros(2, dtype=int)\n",
    "np3"
   ]
  },
  {
   "cell_type": "code",
   "execution_count": 15,
   "id": "62eb1ae3-8c55-47f7-9199-eb5ceb2f0c6c",
   "metadata": {},
   "outputs": [
    {
     "name": "stdout",
     "output_type": "stream",
     "text": [
      "[[0 0 0]\n",
      " [0 0 0]]\n"
     ]
    }
   ],
   "source": [
    "np4 = np.zeros((2,3), dtype=int)\n",
    "print(np4)"
   ]
  },
  {
   "cell_type": "code",
   "execution_count": 16,
   "id": "83ce6188-5334-4cf9-8436-0eeecdb6f153",
   "metadata": {},
   "outputs": [
    {
     "data": {
      "text/plain": [
       "array([[2, 3],\n",
       "       [3, 4]])"
      ]
     },
     "execution_count": 16,
     "metadata": {},
     "output_type": "execute_result"
    }
   ],
   "source": [
    "np5 = np.array([[2,3],[3,4]])\n",
    "np5"
   ]
  },
  {
   "cell_type": "code",
   "execution_count": 17,
   "id": "ec2f905f-f8e6-4d6e-8564-9c867ee8a8b4",
   "metadata": {},
   "outputs": [
    {
     "data": {
      "text/plain": [
       "array([[10, 10, 10],\n",
       "       [10, 10, 10]])"
      ]
     },
     "execution_count": 17,
     "metadata": {},
     "output_type": "execute_result"
    }
   ],
   "source": [
    "np6 = np.full((2,3),fill_value=10)\n",
    "np6"
   ]
  },
  {
   "cell_type": "code",
   "execution_count": 18,
   "id": "acb9b118-59c0-4f73-8c11-203fcfe6d566",
   "metadata": {},
   "outputs": [
    {
     "data": {
      "text/plain": [
       "array([10, 10, 10, 10, 10, 10, 10, 10, 10, 10])"
      ]
     },
     "execution_count": 18,
     "metadata": {},
     "output_type": "execute_result"
    }
   ],
   "source": [
    "np7 = np.full(10,10)\n",
    "np7"
   ]
  },
  {
   "cell_type": "code",
   "execution_count": 19,
   "id": "c866df27-6d7a-4fde-b24e-7f193786fc1d",
   "metadata": {},
   "outputs": [
    {
     "data": {
      "text/plain": [
       "[1, 2, 3, 4, 5]"
      ]
     },
     "execution_count": 19,
     "metadata": {},
     "output_type": "execute_result"
    }
   ],
   "source": [
    "my_list = [1,2,3,4,5]\n",
    "my_list"
   ]
  },
  {
   "cell_type": "code",
   "execution_count": 20,
   "id": "d13d8b18-fe2a-4383-adb9-6b9f58b552d7",
   "metadata": {},
   "outputs": [
    {
     "data": {
      "text/plain": [
       "array([1, 2, 3, 4, 5])"
      ]
     },
     "execution_count": 20,
     "metadata": {},
     "output_type": "execute_result"
    }
   ],
   "source": [
    "np8 = np.array(my_list)\n",
    "np8"
   ]
  },
  {
   "cell_type": "code",
   "execution_count": 21,
   "id": "66c73e96-8506-42a2-a9c5-9b7932b47eff",
   "metadata": {},
   "outputs": [
    {
     "data": {
      "text/plain": [
       "numpy.ndarray"
      ]
     },
     "execution_count": 21,
     "metadata": {},
     "output_type": "execute_result"
    }
   ],
   "source": [
    "type(np8)"
   ]
  },
  {
   "cell_type": "markdown",
   "id": "7db6b757-5751-478f-8fc7-038d8fe60d4e",
   "metadata": {},
   "source": [
    "# Slicing numpy arrays"
   ]
  },
  {
   "cell_type": "code",
   "execution_count": 23,
   "id": "bff21e88-0f22-40b1-95e4-214acd0a280a",
   "metadata": {},
   "outputs": [
    {
     "data": {
      "text/plain": [
       "array([ 0,  1,  2,  3,  4,  5,  6,  7,  8,  9, 10])"
      ]
     },
     "execution_count": 23,
     "metadata": {},
     "output_type": "execute_result"
    }
   ],
   "source": [
    "np1 = np.array([0,1,2,3,4,5,6,7,8,9,10])\n",
    "np1"
   ]
  },
  {
   "cell_type": "code",
   "execution_count": 24,
   "id": "0098e391-4e9b-4cff-b974-a594aae96116",
   "metadata": {},
   "outputs": [
    {
     "data": {
      "text/plain": [
       "array([1, 2, 3, 4])"
      ]
     },
     "execution_count": 24,
     "metadata": {},
     "output_type": "execute_result"
    }
   ],
   "source": [
    "# Basic slicing\n",
    "np1[1:5]"
   ]
  },
  {
   "cell_type": "code",
   "execution_count": 25,
   "id": "20642738-53cb-4393-ad75-de2cdeaca65e",
   "metadata": {},
   "outputs": [
    {
     "data": {
      "text/plain": [
       "[2, 3, 4, 5]"
      ]
     },
     "execution_count": 25,
     "metadata": {},
     "output_type": "execute_result"
    }
   ],
   "source": [
    "my_list = [1,2,3,4,5]\n",
    "my_list[1:5]"
   ]
  },
  {
   "cell_type": "code",
   "execution_count": 26,
   "id": "c014d446-5ed2-4af0-836c-d052ddf1d485",
   "metadata": {},
   "outputs": [
    {
     "data": {
      "text/plain": [
       "array([ 2,  3,  4,  5,  6,  7,  8,  9, 10])"
      ]
     },
     "execution_count": 26,
     "metadata": {},
     "output_type": "execute_result"
    }
   ],
   "source": [
    "# Slicing from some index till end\n",
    "np1[2:]"
   ]
  },
  {
   "cell_type": "code",
   "execution_count": 27,
   "id": "c50b7a41-d7e0-4b6e-8740-4859e83251cb",
   "metadata": {},
   "outputs": [
    {
     "data": {
      "text/plain": [
       "array([10,  9,  8,  7,  6,  5])"
      ]
     },
     "execution_count": 27,
     "metadata": {},
     "output_type": "execute_result"
    }
   ],
   "source": [
    "np1[-1:-7:-1]"
   ]
  },
  {
   "cell_type": "code",
   "execution_count": 28,
   "id": "ac5aab5a-0d40-4408-8adb-b4976919cbe6",
   "metadata": {},
   "outputs": [
    {
     "data": {
      "text/plain": [
       "array([1, 3, 5])"
      ]
     },
     "execution_count": 28,
     "metadata": {},
     "output_type": "execute_result"
    }
   ],
   "source": [
    "np1[1:6:2]"
   ]
  },
  {
   "cell_type": "code",
   "execution_count": 29,
   "id": "d6c4cceb-f953-496d-b76b-0a8573dfb8fd",
   "metadata": {},
   "outputs": [
    {
     "data": {
      "text/plain": [
       "array([ 0,  2,  4,  6,  8, 10])"
      ]
     },
     "execution_count": 29,
     "metadata": {},
     "output_type": "execute_result"
    }
   ],
   "source": [
    "np1[::2]"
   ]
  },
  {
   "cell_type": "code",
   "execution_count": 30,
   "id": "9234d0ba-6fd7-4e64-b42c-11f571f6b489",
   "metadata": {},
   "outputs": [
    {
     "data": {
      "text/plain": [
       "array([1, 3, 5, 7, 9])"
      ]
     },
     "execution_count": 30,
     "metadata": {},
     "output_type": "execute_result"
    }
   ],
   "source": [
    "np1[1::2]"
   ]
  },
  {
   "cell_type": "code",
   "execution_count": 31,
   "id": "86069549-5977-49a3-b0af-ce09d849bbc5",
   "metadata": {},
   "outputs": [
    {
     "data": {
      "text/plain": [
       "8"
      ]
     },
     "execution_count": 31,
     "metadata": {},
     "output_type": "execute_result"
    }
   ],
   "source": [
    "# Slicing 2D array\n",
    "np2 = np.array([\n",
    "    [1,2,3,4,5],\n",
    "    [6,7,8,9,10]\n",
    "])\n",
    "np2[1][2]"
   ]
  },
  {
   "cell_type": "code",
   "execution_count": 32,
   "id": "59ececd7-fa75-4840-9d98-e661cf02cd81",
   "metadata": {},
   "outputs": [
    {
     "data": {
      "text/plain": [
       "array([[2, 3],\n",
       "       [7, 8]])"
      ]
     },
     "execution_count": 32,
     "metadata": {},
     "output_type": "execute_result"
    }
   ],
   "source": [
    "np2[0:2,1:3]"
   ]
  },
  {
   "cell_type": "markdown",
   "id": "32552fea-8104-49fa-8296-9f1f11d1ee26",
   "metadata": {},
   "source": [
    "# Universal Function"
   ]
  },
  {
   "cell_type": "code",
   "execution_count": 62,
   "id": "d029cd48-caec-42fc-a9fb-db8bfe3dac70",
   "metadata": {},
   "outputs": [
    {
     "data": {
      "text/plain": [
       "array([0, 1, 2, 3, 4, 5, 6, 7, 8, 9])"
      ]
     },
     "execution_count": 62,
     "metadata": {},
     "output_type": "execute_result"
    }
   ],
   "source": [
    "np1 = np.array([0,1,2,3,4,5,6,7,8,9])\n",
    "np1"
   ]
  },
  {
   "cell_type": "code",
   "execution_count": 74,
   "id": "ca31c960-a0bb-4205-a1a6-009abd30c840",
   "metadata": {},
   "outputs": [
    {
     "name": "stdout",
     "output_type": "stream",
     "text": [
      "0.0\n",
      "1.0\n",
      "1.4142135623730951\n",
      "1.7320508075688772\n",
      "2.0\n",
      "2.23606797749979\n",
      "2.449489742783178\n",
      "2.6457513110645907\n",
      "2.8284271247461903\n",
      "3.0\n"
     ]
    }
   ],
   "source": [
    "np2 = np.sqrt(np1)\n",
    "for num in np2:\n",
    "    print(num)"
   ]
  },
  {
   "cell_type": "code",
   "execution_count": 76,
   "id": "d366542c-7b26-471c-9f71-d018c30f6c2b",
   "metadata": {},
   "outputs": [
    {
     "data": {
      "text/plain": [
       "array([-3, -2, -1,  0,  1,  2,  3])"
      ]
     },
     "execution_count": 76,
     "metadata": {},
     "output_type": "execute_result"
    }
   ],
   "source": [
    "np2 = np.array([-3,-2,-1,0,1,2,3])\n",
    "np2"
   ]
  },
  {
   "cell_type": "code",
   "execution_count": 78,
   "id": "21190c0c-ffbc-4eea-b4ee-d2fb06cf3560",
   "metadata": {},
   "outputs": [
    {
     "data": {
      "text/plain": [
       "array([3, 2, 1, 0, 1, 2, 3])"
      ]
     },
     "execution_count": 78,
     "metadata": {},
     "output_type": "execute_result"
    }
   ],
   "source": [
    "np.absolute(np2)"
   ]
  },
  {
   "cell_type": "code",
   "execution_count": 80,
   "id": "6cbad717-bdc3-4334-9a47-67c780f57c1a",
   "metadata": {},
   "outputs": [
    {
     "data": {
      "text/plain": [
       "array([1.00000000e+00, 2.71828183e+00, 7.38905610e+00, 2.00855369e+01,\n",
       "       5.45981500e+01, 1.48413159e+02, 4.03428793e+02, 1.09663316e+03,\n",
       "       2.98095799e+03, 8.10308393e+03])"
      ]
     },
     "execution_count": 80,
     "metadata": {},
     "output_type": "execute_result"
    }
   ],
   "source": [
    "np.exp(np1)"
   ]
  },
  {
   "cell_type": "code",
   "execution_count": 82,
   "id": "a3871f5f-7c92-48ac-8867-44021227bec8",
   "metadata": {},
   "outputs": [
    {
     "data": {
      "text/plain": [
       "0"
      ]
     },
     "execution_count": 82,
     "metadata": {},
     "output_type": "execute_result"
    }
   ],
   "source": [
    "np.min(np1)"
   ]
  },
  {
   "cell_type": "code",
   "execution_count": 84,
   "id": "e91fcf1e-a818-4862-8d4a-3176e4fdafe1",
   "metadata": {},
   "outputs": [
    {
     "data": {
      "text/plain": [
       "9"
      ]
     },
     "execution_count": 84,
     "metadata": {},
     "output_type": "execute_result"
    }
   ],
   "source": [
    "np.max(np1)"
   ]
  },
  {
   "cell_type": "code",
   "execution_count": 88,
   "id": "9fca9801-22b4-4506-ad43-d59fb157c7d8",
   "metadata": {},
   "outputs": [
    {
     "data": {
      "text/plain": [
       "array([-1, -1, -1,  0,  1,  1,  1])"
      ]
     },
     "execution_count": 88,
     "metadata": {},
     "output_type": "execute_result"
    }
   ],
   "source": [
    "np.sign(np2)"
   ]
  },
  {
   "cell_type": "code",
   "execution_count": 96,
   "id": "8c885982-3b3e-493c-ad2b-08e0fbd1bf3c",
   "metadata": {},
   "outputs": [
    {
     "data": {
      "text/plain": [
       "array([ 0.        ,  0.84147098,  0.90929743,  0.14112001, -0.7568025 ,\n",
       "       -0.95892427, -0.2794155 ,  0.6569866 ,  0.98935825,  0.41211849])"
      ]
     },
     "execution_count": 96,
     "metadata": {},
     "output_type": "execute_result"
    }
   ],
   "source": [
    "np.sin(np1)"
   ]
  },
  {
   "cell_type": "code",
   "execution_count": 98,
   "id": "01cad75e-58d1-46b6-b912-908538365a3f",
   "metadata": {},
   "outputs": [
    {
     "data": {
      "text/plain": [
       "array([ 1.        ,  0.54030231, -0.41614684, -0.9899925 , -0.65364362,\n",
       "        0.28366219,  0.96017029,  0.75390225, -0.14550003, -0.91113026])"
      ]
     },
     "execution_count": 98,
     "metadata": {},
     "output_type": "execute_result"
    }
   ],
   "source": [
    "np.cos(np1)"
   ]
  },
  {
   "cell_type": "code",
   "execution_count": 100,
   "id": "b0a5228f-81a4-4e92-8fe8-aa5518b653e8",
   "metadata": {},
   "outputs": [
    {
     "name": "stderr",
     "output_type": "stream",
     "text": [
      "C:\\Users\\manas\\AppData\\Local\\Temp\\ipykernel_5512\\3977740415.py:1: RuntimeWarning: divide by zero encountered in log\n",
      "  np.log(np1)\n"
     ]
    },
    {
     "data": {
      "text/plain": [
       "array([      -inf, 0.        , 0.69314718, 1.09861229, 1.38629436,\n",
       "       1.60943791, 1.79175947, 1.94591015, 2.07944154, 2.19722458])"
      ]
     },
     "execution_count": 100,
     "metadata": {},
     "output_type": "execute_result"
    }
   ],
   "source": [
    "np.log(np1)"
   ]
  },
  {
   "cell_type": "code",
   "execution_count": 106,
   "id": "ec785ffc-1d95-4a7f-82b8-b33df142e2f4",
   "metadata": {},
   "outputs": [
    {
     "data": {
      "text/plain": [
       "array([5, 7, 9])"
      ]
     },
     "execution_count": 106,
     "metadata": {},
     "output_type": "execute_result"
    }
   ],
   "source": [
    "np3 = np.array([1,2,3])\n",
    "np4 = np.array([4,5,6])\n",
    "np.add(np3,np4)"
   ]
  },
  {
   "cell_type": "code",
   "execution_count": 110,
   "id": "7f7f106e-2ee5-45cc-ae44-e4a88196e64b",
   "metadata": {},
   "outputs": [
    {
     "data": {
      "text/plain": [
       "array([1, 2, 3])"
      ]
     },
     "execution_count": 110,
     "metadata": {},
     "output_type": "execute_result"
    }
   ],
   "source": [
    "np.fmod(np3,np4)"
   ]
  },
  {
   "cell_type": "code",
   "execution_count": 116,
   "id": "196dbea1-325b-4b1e-83e4-8ec2c88c1090",
   "metadata": {},
   "outputs": [
    {
     "data": {
      "text/plain": [
       "array([ True,  True,  True])"
      ]
     },
     "execution_count": 116,
     "metadata": {},
     "output_type": "execute_result"
    }
   ],
   "source": [
    "np.greater(np4,np3)"
   ]
  },
  {
   "cell_type": "code",
   "execution_count": null,
   "id": "bb540b42-d6ba-4c20-9bc1-cf6dbac0b32f",
   "metadata": {},
   "outputs": [],
   "source": []
  }
 ],
 "metadata": {
  "kernelspec": {
   "display_name": "Python [conda env:base] *",
   "language": "python",
   "name": "conda-base-py"
  },
  "language_info": {
   "codemirror_mode": {
    "name": "ipython",
    "version": 3
   },
   "file_extension": ".py",
   "mimetype": "text/x-python",
   "name": "python",
   "nbconvert_exporter": "python",
   "pygments_lexer": "ipython3",
   "version": "3.12.7"
  }
 },
 "nbformat": 4,
 "nbformat_minor": 5
}
