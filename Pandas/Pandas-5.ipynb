{
 "cells": [
  {
   "cell_type": "markdown",
   "id": "9fb3de35-1ca8-42be-8ebd-92cee56849c3",
   "metadata": {},
   "source": [
    "# Part - 5"
   ]
  },
  {
   "cell_type": "code",
   "execution_count": null,
   "id": "3c618113-f305-4f02-a34e-0612ea505c08",
   "metadata": {},
   "outputs": [],
   "source": []
  }
 ],
 "metadata": {
  "kernelspec": {
   "display_name": "Python [conda env:base] *",
   "language": "python",
   "name": "conda-base-py"
  },
  "language_info": {
   "codemirror_mode": {
    "name": "ipython",
    "version": 3
   },
   "file_extension": ".py",
   "mimetype": "text/x-python",
   "name": "python",
   "nbconvert_exporter": "python",
   "pygments_lexer": "ipython3",
   "version": "3.12.7"
  }
 },
 "nbformat": 4,
 "nbformat_minor": 5
}
